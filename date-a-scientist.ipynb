{
 "cells": [
  {
   "cell_type": "code",
   "execution_count": 101,
   "metadata": {},
   "outputs": [],
   "source": [
    "import pandas as pd\n",
    "from sklearn.model_selection import train_test_split\n",
    "from sklearn.metrics import accuracy_score\n",
    "from sklearn.metrics import classification_report\n",
    "import numpy as np\n",
    "import torch\n",
    "import torch.nn as nn\n",
    "import torch.optim as optim"
   ]
  },
  {
   "cell_type": "code",
   "execution_count": 102,
   "metadata": {},
   "outputs": [
    {
     "name": "stdout",
     "output_type": "stream",
     "text": [
      "status\n",
      "single            55697\n",
      "seeing someone     2064\n",
      "available          1865\n",
      "married             310\n",
      "unknown              10\n",
      "Name: count, dtype: int64\n"
     ]
    }
   ],
   "source": [
    "data = pd.read_csv('profiles.csv')\n",
    "data.head()\n",
    "print(data['status'].value_counts())"
   ]
  },
  {
   "cell_type": "code",
   "execution_count": 103,
   "metadata": {},
   "outputs": [
    {
     "name": "stdout",
     "output_type": "stream",
     "text": [
      "yes\n"
     ]
    }
   ],
   "source": [
    "test = 'test,'\n",
    "if 'test' in test:\n",
    "    print('yes')"
   ]
  },
  {
   "cell_type": "code",
   "execution_count": 104,
   "metadata": {},
   "outputs": [
    {
     "name": "stdout",
     "output_type": "stream",
     "text": [
      "<class 'pandas.core.frame.DataFrame'>\n",
      "RangeIndex: 59946 entries, 0 to 59945\n",
      "Data columns (total 31 columns):\n",
      " #   Column       Non-Null Count  Dtype  \n",
      "---  ------       --------------  -----  \n",
      " 0   age          59946 non-null  int64  \n",
      " 1   body_type    54650 non-null  object \n",
      " 2   diet         35551 non-null  object \n",
      " 3   drinks       56961 non-null  object \n",
      " 4   drugs        45866 non-null  object \n",
      " 5   education    53318 non-null  object \n",
      " 6   essay0       54458 non-null  object \n",
      " 7   essay1       52374 non-null  object \n",
      " 8   essay2       50308 non-null  object \n",
      " 9   essay3       48470 non-null  object \n",
      " 10  essay4       49409 non-null  object \n",
      " 11  essay5       49096 non-null  object \n",
      " 12  essay6       46175 non-null  object \n",
      " 13  essay7       47495 non-null  object \n",
      " 14  essay8       40721 non-null  object \n",
      " 15  essay9       47343 non-null  object \n",
      " 16  ethnicity    54266 non-null  object \n",
      " 17  height       59943 non-null  float64\n",
      " 18  income       59946 non-null  int64  \n",
      " 19  job          51748 non-null  object \n",
      " 20  last_online  59946 non-null  object \n",
      " 21  location     59946 non-null  object \n",
      " 22  offspring    24385 non-null  object \n",
      " 23  orientation  59946 non-null  object \n",
      " 24  pets         40025 non-null  object \n",
      " 25  religion     39720 non-null  object \n",
      " 26  sex          59946 non-null  object \n",
      " 27  sign         48890 non-null  object \n",
      " 28  smokes       54434 non-null  object \n",
      " 29  speaks       59896 non-null  object \n",
      " 30  status       59946 non-null  object \n",
      "dtypes: float64(1), int64(2), object(28)\n",
      "memory usage: 14.2+ MB\n"
     ]
    }
   ],
   "source": [
    "data.info()"
   ]
  },
  {
   "cell_type": "markdown",
   "metadata": {},
   "source": [
    "we want to look at the offspring column first"
   ]
  },
  {
   "cell_type": "code",
   "execution_count": 105,
   "metadata": {},
   "outputs": [
    {
     "name": "stderr",
     "output_type": "stream",
     "text": [
      "C:\\Users\\legom\\AppData\\Local\\Temp\\ipykernel_4068\\1721873299.py:3: FutureWarning: Downcasting behavior in `replace` is deprecated and will be removed in a future version. To retain the old behavior, explicitly call `result.infer_objects(copy=False)`. To opt-in to the future behavior, set `pd.set_option('future.no_silent_downcasting', True)`\n",
      "  data['want_kids'] = data['offspring'].replace({'doesn&rsquo;t have kids': 0,'doesn&rsquo;t have kids, but might want them':1,\n"
     ]
    }
   ],
   "source": [
    "list = data['offspring'].value_counts()\n",
    "list\n",
    "data['want_kids'] = data['offspring'].replace({'doesn&rsquo;t have kids': 0,'doesn&rsquo;t have kids, but might want them':1,\n",
    "'doesn&rsquo;t have kids, but wants them':1,\n",
    "'doesn&rsquo;t want kids':0,\n",
    "'has kids':1,'has a kid':1,'doesn&rsquo;t have kids, and doesn&rsquo;t want any':0,\n",
    "'has kids, but doesn&rsquo;t want more':0,\n",
    "'has a kid, but doesn&rsquo;t want more':0,'has a kid, and might want more':1,\n",
    "'wants kids':1,'might want kids':1,'has kids, and might want more':1,\n",
    "'has a kid, and wants more':1,'has kids, and wants more':1})"
   ]
  },
  {
   "cell_type": "code",
   "execution_count": 106,
   "metadata": {},
   "outputs": [
    {
     "data": {
      "text/plain": [
       "want_kids\n",
       "0.0    12336\n",
       "1.0    12049\n",
       "Name: count, dtype: int64"
      ]
     },
     "execution_count": 106,
     "metadata": {},
     "output_type": "execute_result"
    }
   ],
   "source": [
    "data['want_kids'].value_counts()"
   ]
  },
  {
   "cell_type": "code",
   "execution_count": 107,
   "metadata": {},
   "outputs": [],
   "source": [
    "#(data['height'].value_counts())"
   ]
  },
  {
   "cell_type": "code",
   "execution_count": 108,
   "metadata": {},
   "outputs": [],
   "source": [
    "cols_to_drop = ['ethnicity','offspring','essay0','essay1','essay2','essay3','essay4','essay5','essay6','essay7','essay8','essay9','location','pets','last_online','speaks','sign','job']\n",
    "data = data.drop(cols_to_drop, axis=1)"
   ]
  },
  {
   "cell_type": "code",
   "execution_count": 109,
   "metadata": {},
   "outputs": [],
   "source": [
    "hot_encode = ['body_type','diet','drinks','drugs','education','orientation','religion','sex','smokes','status']\n",
    "data=pd.get_dummies(data, columns=hot_encode, dtype=int)"
   ]
  },
  {
   "cell_type": "code",
   "execution_count": 110,
   "metadata": {},
   "outputs": [
    {
     "data": {
      "text/html": [
       "<div>\n",
       "<style scoped>\n",
       "    .dataframe tbody tr th:only-of-type {\n",
       "        vertical-align: middle;\n",
       "    }\n",
       "\n",
       "    .dataframe tbody tr th {\n",
       "        vertical-align: top;\n",
       "    }\n",
       "\n",
       "    .dataframe thead th {\n",
       "        text-align: right;\n",
       "    }\n",
       "</style>\n",
       "<table border=\"1\" class=\"dataframe\">\n",
       "  <thead>\n",
       "    <tr style=\"text-align: right;\">\n",
       "      <th></th>\n",
       "      <th>age</th>\n",
       "      <th>height</th>\n",
       "      <th>income</th>\n",
       "      <th>want_kids</th>\n",
       "      <th>body_type_a little extra</th>\n",
       "      <th>body_type_athletic</th>\n",
       "      <th>body_type_average</th>\n",
       "      <th>body_type_curvy</th>\n",
       "      <th>body_type_fit</th>\n",
       "      <th>body_type_full figured</th>\n",
       "      <th>...</th>\n",
       "      <th>smokes_no</th>\n",
       "      <th>smokes_sometimes</th>\n",
       "      <th>smokes_trying to quit</th>\n",
       "      <th>smokes_when drinking</th>\n",
       "      <th>smokes_yes</th>\n",
       "      <th>status_available</th>\n",
       "      <th>status_married</th>\n",
       "      <th>status_seeing someone</th>\n",
       "      <th>status_single</th>\n",
       "      <th>status_unknown</th>\n",
       "    </tr>\n",
       "  </thead>\n",
       "  <tbody>\n",
       "    <tr>\n",
       "      <th>0</th>\n",
       "      <td>22</td>\n",
       "      <td>75.0</td>\n",
       "      <td>-1</td>\n",
       "      <td>1.0</td>\n",
       "      <td>1</td>\n",
       "      <td>0</td>\n",
       "      <td>0</td>\n",
       "      <td>0</td>\n",
       "      <td>0</td>\n",
       "      <td>0</td>\n",
       "      <td>...</td>\n",
       "      <td>0</td>\n",
       "      <td>1</td>\n",
       "      <td>0</td>\n",
       "      <td>0</td>\n",
       "      <td>0</td>\n",
       "      <td>0</td>\n",
       "      <td>0</td>\n",
       "      <td>0</td>\n",
       "      <td>1</td>\n",
       "      <td>0</td>\n",
       "    </tr>\n",
       "    <tr>\n",
       "      <th>1</th>\n",
       "      <td>35</td>\n",
       "      <td>70.0</td>\n",
       "      <td>80000</td>\n",
       "      <td>1.0</td>\n",
       "      <td>0</td>\n",
       "      <td>0</td>\n",
       "      <td>1</td>\n",
       "      <td>0</td>\n",
       "      <td>0</td>\n",
       "      <td>0</td>\n",
       "      <td>...</td>\n",
       "      <td>1</td>\n",
       "      <td>0</td>\n",
       "      <td>0</td>\n",
       "      <td>0</td>\n",
       "      <td>0</td>\n",
       "      <td>0</td>\n",
       "      <td>0</td>\n",
       "      <td>0</td>\n",
       "      <td>1</td>\n",
       "      <td>0</td>\n",
       "    </tr>\n",
       "    <tr>\n",
       "      <th>3</th>\n",
       "      <td>23</td>\n",
       "      <td>71.0</td>\n",
       "      <td>20000</td>\n",
       "      <td>0.0</td>\n",
       "      <td>0</td>\n",
       "      <td>0</td>\n",
       "      <td>0</td>\n",
       "      <td>0</td>\n",
       "      <td>0</td>\n",
       "      <td>0</td>\n",
       "      <td>...</td>\n",
       "      <td>1</td>\n",
       "      <td>0</td>\n",
       "      <td>0</td>\n",
       "      <td>0</td>\n",
       "      <td>0</td>\n",
       "      <td>0</td>\n",
       "      <td>0</td>\n",
       "      <td>0</td>\n",
       "      <td>1</td>\n",
       "      <td>0</td>\n",
       "    </tr>\n",
       "    <tr>\n",
       "      <th>5</th>\n",
       "      <td>29</td>\n",
       "      <td>67.0</td>\n",
       "      <td>-1</td>\n",
       "      <td>1.0</td>\n",
       "      <td>0</td>\n",
       "      <td>0</td>\n",
       "      <td>1</td>\n",
       "      <td>0</td>\n",
       "      <td>0</td>\n",
       "      <td>0</td>\n",
       "      <td>...</td>\n",
       "      <td>1</td>\n",
       "      <td>0</td>\n",
       "      <td>0</td>\n",
       "      <td>0</td>\n",
       "      <td>0</td>\n",
       "      <td>0</td>\n",
       "      <td>0</td>\n",
       "      <td>0</td>\n",
       "      <td>1</td>\n",
       "      <td>0</td>\n",
       "    </tr>\n",
       "    <tr>\n",
       "      <th>7</th>\n",
       "      <td>31</td>\n",
       "      <td>65.0</td>\n",
       "      <td>-1</td>\n",
       "      <td>1.0</td>\n",
       "      <td>0</td>\n",
       "      <td>0</td>\n",
       "      <td>1</td>\n",
       "      <td>0</td>\n",
       "      <td>0</td>\n",
       "      <td>0</td>\n",
       "      <td>...</td>\n",
       "      <td>1</td>\n",
       "      <td>0</td>\n",
       "      <td>0</td>\n",
       "      <td>0</td>\n",
       "      <td>0</td>\n",
       "      <td>0</td>\n",
       "      <td>0</td>\n",
       "      <td>0</td>\n",
       "      <td>1</td>\n",
       "      <td>0</td>\n",
       "    </tr>\n",
       "  </tbody>\n",
       "</table>\n",
       "<p>5 rows × 135 columns</p>\n",
       "</div>"
      ],
      "text/plain": [
       "   age  height  income  want_kids  body_type_a little extra  \\\n",
       "0   22    75.0      -1        1.0                         1   \n",
       "1   35    70.0   80000        1.0                         0   \n",
       "3   23    71.0   20000        0.0                         0   \n",
       "5   29    67.0      -1        1.0                         0   \n",
       "7   31    65.0      -1        1.0                         0   \n",
       "\n",
       "   body_type_athletic  body_type_average  body_type_curvy  body_type_fit  \\\n",
       "0                   0                  0                0              0   \n",
       "1                   0                  1                0              0   \n",
       "3                   0                  0                0              0   \n",
       "5                   0                  1                0              0   \n",
       "7                   0                  1                0              0   \n",
       "\n",
       "   body_type_full figured  ...  smokes_no  smokes_sometimes  \\\n",
       "0                       0  ...          0                 1   \n",
       "1                       0  ...          1                 0   \n",
       "3                       0  ...          1                 0   \n",
       "5                       0  ...          1                 0   \n",
       "7                       0  ...          1                 0   \n",
       "\n",
       "   smokes_trying to quit  smokes_when drinking  smokes_yes  status_available  \\\n",
       "0                      0                     0           0                 0   \n",
       "1                      0                     0           0                 0   \n",
       "3                      0                     0           0                 0   \n",
       "5                      0                     0           0                 0   \n",
       "7                      0                     0           0                 0   \n",
       "\n",
       "   status_married  status_seeing someone  status_single  status_unknown  \n",
       "0               0                      0              1               0  \n",
       "1               0                      0              1               0  \n",
       "3               0                      0              1               0  \n",
       "5               0                      0              1               0  \n",
       "7               0                      0              1               0  \n",
       "\n",
       "[5 rows x 135 columns]"
      ]
     },
     "execution_count": 110,
     "metadata": {},
     "output_type": "execute_result"
    }
   ],
   "source": [
    "data = data.dropna()\n",
    "data.head()\n",
    "#152 columns wow this might be hefty"
   ]
  },
  {
   "cell_type": "code",
   "execution_count": 111,
   "metadata": {},
   "outputs": [],
   "source": [
    "want_kids = ['want_kids']\n",
    "train_features = [x for x in data if x not in want_kids]"
   ]
  },
  {
   "cell_type": "code",
   "execution_count": 112,
   "metadata": {},
   "outputs": [],
   "source": [
    "X = torch.tensor(data[train_features].values, dtype=torch.float)\n",
    "y = torch.tensor(data['want_kids'].values, dtype=torch.float).view(-1,1)"
   ]
  },
  {
   "cell_type": "code",
   "execution_count": 113,
   "metadata": {},
   "outputs": [],
   "source": [
    "X_train, X_test, y_train, y_test = train_test_split(X,y,test_size=0.20,random_state=42) "
   ]
  },
  {
   "cell_type": "code",
   "execution_count": 114,
   "metadata": {},
   "outputs": [],
   "source": [
    "torch.manual_seed(42)\n",
    "\n",
    "model = nn.Sequential(nn.Linear(134,70),nn.ReLU(),nn.Linear(70,35),nn.ReLU(),nn.Linear(35,1),nn.Sigmoid())"
   ]
  },
  {
   "cell_type": "code",
   "execution_count": 115,
   "metadata": {},
   "outputs": [],
   "source": [
    "loss = nn.BCELoss()\n",
    "optimizer = optim.Adam(model.parameters(),lr=0.05)"
   ]
  },
  {
   "cell_type": "code",
   "execution_count": 116,
   "metadata": {},
   "outputs": [
    {
     "name": "stdout",
     "output_type": "stream",
     "text": [
      "tensor([[0.],\n",
      "        [0.],\n",
      "        [0.],\n",
      "        ...,\n",
      "        [1.],\n",
      "        [1.],\n",
      "        [0.]])\n"
     ]
    }
   ],
   "source": [
    "print(y_train)"
   ]
  },
  {
   "cell_type": "code",
   "execution_count": 117,
   "metadata": {},
   "outputs": [
    {
     "name": "stdout",
     "output_type": "stream",
     "text": [
      "Epoch 500/9000, BCELoss 11.231928825378418, Accuracy 0.631619418670221\n",
      "Epoch 1000/9000, BCELoss 11.22912311553955, Accuracy 0.634900292202799\n",
      "Epoch 1500/9000, BCELoss 11.228598594665527, Accuracy 0.6364382016711949\n",
      "Epoch 2000/9000, BCELoss 11.227214813232422, Accuracy 0.6363356743733019\n",
      "Epoch 2500/9000, BCELoss 11.22803020477295, Accuracy 0.6372584200543394\n",
      "Epoch 3000/9000, BCELoss 11.228177070617676, Accuracy 0.6364894653201415\n",
      "Epoch 3500/9000, BCELoss 11.22411060333252, Accuracy 0.6416670938637412\n",
      "Epoch 4000/9000, BCELoss 11.22463607788086, Accuracy 0.6401804480442917\n",
      "Epoch 4500/9000, BCELoss 11.221254348754883, Accuracy 0.6439226944173886\n",
      "Epoch 5000/9000, BCELoss 11.226262092590332, Accuracy 0.6369508381606602\n",
      "Epoch 5500/9000, BCELoss 11.219148635864258, Accuracy 0.6465371405136617\n",
      "Epoch 6000/9000, BCELoss 11.219517707824707, Accuracy 0.6465371405136617\n",
      "Epoch 6500/9000, BCELoss 11.219414710998535, Accuracy 0.6459219767263034\n",
      "Epoch 7000/9000, BCELoss 11.222148895263672, Accuracy 0.6409494027784898\n",
      "Epoch 7500/9000, BCELoss 11.221659660339355, Accuracy 0.6435638488747629\n",
      "Epoch 8000/9000, BCELoss 11.216331481933594, Accuracy 0.6481775772799507\n",
      "Epoch 8500/9000, BCELoss 11.220588684082031, Accuracy 0.6427948941405649\n",
      "Epoch 9000/9000, BCELoss 11.218071937561035, Accuracy 0.6464346132157687\n"
     ]
    }
   ],
   "source": [
    "num_epochs = 9000\n",
    "epoch = []\n",
    "accuracy_list = []\n",
    "for epochs in range(num_epochs):\n",
    "    predictions = model(X_train)\n",
    "    BCELoss = loss(predictions,y_train)\n",
    "    BCELoss.backward()\n",
    "    optimizer.step()\n",
    "    optimizer.zero_grad()\n",
    "    \n",
    "    if (epochs+1)%100 == 0:\n",
    "        predicted_labels = (predictions >= .5).int()\n",
    "        accuracy = accuracy_score(y_train,predicted_labels)\n",
    "        epoch.append(epochs+1)\n",
    "        accuracy_list.append(accuracy)\n",
    "        if (epochs+1)%500 == 0:\n",
    "            print(f'Epoch {(epochs+1)}/{num_epochs}, BCELoss {BCELoss.item()}, Accuracy {accuracy}')"
   ]
  },
  {
   "cell_type": "code",
   "execution_count": 118,
   "metadata": {},
   "outputs": [],
   "source": [
    "model.eval()\n",
    "with torch.no_grad():\n",
    "    test_predictions = model(X_test)\n",
    "    test_predicted_labels = (test_predictions>=0.5).int()"
   ]
  },
  {
   "cell_type": "code",
   "execution_count": 119,
   "metadata": {},
   "outputs": [
    {
     "name": "stdout",
     "output_type": "stream",
     "text": [
      "0.5897067869591962               precision    recall  f1-score   support\n",
      "\n",
      "         0.0       0.62      0.48      0.54      2450\n",
      "         1.0       0.57      0.70      0.63      2427\n",
      "\n",
      "    accuracy                           0.59      4877\n",
      "   macro avg       0.60      0.59      0.58      4877\n",
      "weighted avg       0.60      0.59      0.58      4877\n",
      "\n"
     ]
    }
   ],
   "source": [
    "accuracy = accuracy_score(y_test,test_predicted_labels)\n",
    "classification = classification_report(y_test,test_predicted_labels)\n",
    "print(accuracy,classification)"
   ]
  },
  {
   "cell_type": "markdown",
   "metadata": {},
   "source": [
    "Probably the biggest thing that is holding back the accuracy is removing the essay questions being answere. They provide much more insight into what the person is however it might require another ML model to decide if it helps with the person wanting kids.\n",
    "Furthermore people that answered having kids but ignored wether or not they wanted kids were autolisted as not wanting kids. tweaking this may improve the accuracy"
   ]
  },
  {
   "cell_type": "code",
   "execution_count": 120,
   "metadata": {},
   "outputs": [],
   "source": [
    "import matplotlib.pyplot as plt"
   ]
  },
  {
   "cell_type": "code",
   "execution_count": 121,
   "metadata": {},
   "outputs": [
    {
     "data": {
      "image/png": "[encoded data removed]",
      "text/plain": [
       "<Figure size 640x480 with 1 Axes>"
      ]
     },
     "metadata": {},
     "output_type": "display_data"
    }
   ],
   "source": [
    "plt.plot(epoch,accuracy_list)\n",
    "plt.xlabel('Number of Passes')\n",
    "plt.ylabel('Accuracy')\n",
    "plt.title('Accuracy improvements over time')\n",
    "plt.show()"
   ]
  },
  {
   "cell_type": "code",
   "execution_count": null,
   "metadata": {},
   "outputs": [],
   "source": []
  }
 ],
 "metadata": {
  "kernelspec": {
   "display_name": "Python 3 (ipykernel)",
   "language": "python",
   "name": "python3"
  },
  "language_info": {
   "codemirror_mode": {
    "name": "ipython",
    "version": 3
   },
   "file_extension": ".py",
   "mimetype": "text/x-python",
   "name": "python",
   "nbconvert_exporter": "python",
   "pygments_lexer": "ipython3",
   "version": "3.12.7"
  }
 },
 "nbformat": 4,
 "nbformat_minor": 4
}
